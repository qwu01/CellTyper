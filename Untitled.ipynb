{
 "cells": [
  {
   "cell_type": "code",
   "execution_count": 1,
   "metadata": {},
   "outputs": [],
   "source": [
    "from scipy.sparse import load_npz\n"
   ]
  },
  {
   "cell_type": "code",
   "execution_count": null,
   "metadata": {},
   "outputs": [],
   "source": []
  },
  {
   "cell_type": "code",
   "execution_count": 2,
   "metadata": {},
   "outputs": [],
   "source": [
    "tmp = load_npz(\"Data/split/expression_test.npz\")"
   ]
  },
  {
   "cell_type": "code",
   "execution_count": 5,
   "metadata": {},
   "outputs": [
    {
     "data": {
      "text/plain": [
       "scipy.sparse.csr.csr_matrix"
      ]
     },
     "execution_count": 5,
     "metadata": {},
     "output_type": "execute_result"
    }
   ],
   "source": [
    "type(tmp)"
   ]
  },
  {
   "cell_type": "code",
   "execution_count": 6,
   "metadata": {},
   "outputs": [],
   "source": [
    "import pandas as pd\n"
   ]
  },
  {
   "cell_type": "code",
   "execution_count": 11,
   "metadata": {},
   "outputs": [],
   "source": [
    "tmp = pd.read_csv('Data/split/cells_test.csv', index_col=0)"
   ]
  },
  {
   "cell_type": "code",
   "execution_count": 12,
   "metadata": {},
   "outputs": [
    {
     "data": {
      "text/html": [
       "<div>\n",
       "<style scoped>\n",
       "    .dataframe tbody tr th:only-of-type {\n",
       "        vertical-align: middle;\n",
       "    }\n",
       "\n",
       "    .dataframe tbody tr th {\n",
       "        vertical-align: top;\n",
       "    }\n",
       "\n",
       "    .dataframe thead th {\n",
       "        text-align: right;\n",
       "    }\n",
       "</style>\n",
       "<table border=\"1\" class=\"dataframe\">\n",
       "  <thead>\n",
       "    <tr style=\"text-align: right;\">\n",
       "      <th></th>\n",
       "      <th>Name</th>\n",
       "      <th>nGene</th>\n",
       "      <th>nUMI</th>\n",
       "      <th>percent.mito</th>\n",
       "      <th>Cluster</th>\n",
       "      <th>CellType</th>\n",
       "      <th>Experiment</th>\n",
       "      <th>Method</th>\n",
       "      <th>sizeFactor</th>\n",
       "    </tr>\n",
       "  </thead>\n",
       "  <tbody>\n",
       "    <tr>\n",
       "      <th>pbmc1_10x_v2_A_CTGATCCCAGTGGGAT</th>\n",
       "      <td>pbmc1_10x_v2_A_CTGATCCCAGTGGGAT</td>\n",
       "      <td>1122</td>\n",
       "      <td>3239</td>\n",
       "      <td>0.040753</td>\n",
       "      <td>5</td>\n",
       "      <td>CD14+ monocyte</td>\n",
       "      <td>pbmc1</td>\n",
       "      <td>10x Chromium (v2) A</td>\n",
       "      <td>0.978751</td>\n",
       "    </tr>\n",
       "    <tr>\n",
       "      <th>pbmc1_Seqwell_CTACGCATTGCA_R1</th>\n",
       "      <td>pbmc1_Seqwell_CTACGCATTGCA_R1</td>\n",
       "      <td>664</td>\n",
       "      <td>1146</td>\n",
       "      <td>0.029668</td>\n",
       "      <td>5</td>\n",
       "      <td>CD14+ monocyte</td>\n",
       "      <td>pbmc1</td>\n",
       "      <td>Seq-Well</td>\n",
       "      <td>0.377307</td>\n",
       "    </tr>\n",
       "    <tr>\n",
       "      <th>pbmc2_10X_V2_AAACCTGTCTTGTACT</th>\n",
       "      <td>pbmc2_10X_V2_AAACCTGTCTTGTACT</td>\n",
       "      <td>1895</td>\n",
       "      <td>5801</td>\n",
       "      <td>0.034304</td>\n",
       "      <td>2</td>\n",
       "      <td>B cell</td>\n",
       "      <td>pbmc2</td>\n",
       "      <td>10x Chromium (v2)</td>\n",
       "      <td>1.935131</td>\n",
       "    </tr>\n",
       "    <tr>\n",
       "      <th>pbmc2_Celseq2_3_GATCAC</th>\n",
       "      <td>pbmc2_Celseq2_3_GATCAC</td>\n",
       "      <td>2816</td>\n",
       "      <td>6675</td>\n",
       "      <td>0.134682</td>\n",
       "      <td>1</td>\n",
       "      <td>Cytotoxic T cell</td>\n",
       "      <td>pbmc2</td>\n",
       "      <td>CEL-Seq2</td>\n",
       "      <td>12.575324</td>\n",
       "    </tr>\n",
       "    <tr>\n",
       "      <th>pbmc2_inDrops_1_CTCACATC.TTATGCGA.CCCATAGC</th>\n",
       "      <td>pbmc2_inDrops_1_CTCACATC.TTATGCGA.CCCATAGC</td>\n",
       "      <td>190</td>\n",
       "      <td>241</td>\n",
       "      <td>0.091286</td>\n",
       "      <td>7</td>\n",
       "      <td>Dendritic cell</td>\n",
       "      <td>pbmc2</td>\n",
       "      <td>inDrops</td>\n",
       "      <td>0.025989</td>\n",
       "    </tr>\n",
       "    <tr>\n",
       "      <th>...</th>\n",
       "      <td>...</td>\n",
       "      <td>...</td>\n",
       "      <td>...</td>\n",
       "      <td>...</td>\n",
       "      <td>...</td>\n",
       "      <td>...</td>\n",
       "      <td>...</td>\n",
       "      <td>...</td>\n",
       "      <td>...</td>\n",
       "    </tr>\n",
       "    <tr>\n",
       "      <th>pbmc1_10x_v2_B_GTCCTCACACGAAGCA</th>\n",
       "      <td>pbmc1_10x_v2_B_GTCCTCACACGAAGCA</td>\n",
       "      <td>801</td>\n",
       "      <td>2418</td>\n",
       "      <td>0.016129</td>\n",
       "      <td>1</td>\n",
       "      <td>CD4+ T cell</td>\n",
       "      <td>pbmc1</td>\n",
       "      <td>10x Chromium (v2) B</td>\n",
       "      <td>0.453430</td>\n",
       "    </tr>\n",
       "    <tr>\n",
       "      <th>pbmc2_10X_V2_ACTGTCCTCAACACGT</th>\n",
       "      <td>pbmc2_10X_V2_ACTGTCCTCAACACGT</td>\n",
       "      <td>1779</td>\n",
       "      <td>4972</td>\n",
       "      <td>0.052494</td>\n",
       "      <td>3</td>\n",
       "      <td>CD14+ monocyte</td>\n",
       "      <td>pbmc2</td>\n",
       "      <td>10x Chromium (v2)</td>\n",
       "      <td>1.863723</td>\n",
       "    </tr>\n",
       "    <tr>\n",
       "      <th>pbmc1_Seqwell_TTGCGACTGTGG_R1</th>\n",
       "      <td>pbmc1_Seqwell_TTGCGACTGTGG_R1</td>\n",
       "      <td>733</td>\n",
       "      <td>1361</td>\n",
       "      <td>0.029390</td>\n",
       "      <td>1</td>\n",
       "      <td>Cytotoxic T cell</td>\n",
       "      <td>pbmc1</td>\n",
       "      <td>Seq-Well</td>\n",
       "      <td>0.253546</td>\n",
       "    </tr>\n",
       "    <tr>\n",
       "      <th>pbmc1_10x_v3_TCATATCTCCGGGACT</th>\n",
       "      <td>pbmc1_10x_v3_TCATATCTCCGGGACT</td>\n",
       "      <td>1435</td>\n",
       "      <td>3810</td>\n",
       "      <td>0.168504</td>\n",
       "      <td>0</td>\n",
       "      <td>Cytotoxic T cell</td>\n",
       "      <td>pbmc1</td>\n",
       "      <td>10x Chromium (v3)</td>\n",
       "      <td>0.689886</td>\n",
       "    </tr>\n",
       "    <tr>\n",
       "      <th>pbmc1_10x_v2_B_GGAAAGCAGAGGTAGA</th>\n",
       "      <td>pbmc1_10x_v2_B_GGAAAGCAGAGGTAGA</td>\n",
       "      <td>780</td>\n",
       "      <td>1955</td>\n",
       "      <td>0.032225</td>\n",
       "      <td>1</td>\n",
       "      <td>CD4+ T cell</td>\n",
       "      <td>pbmc1</td>\n",
       "      <td>10x Chromium (v2) B</td>\n",
       "      <td>0.353703</td>\n",
       "    </tr>\n",
       "  </tbody>\n",
       "</table>\n",
       "<p>15511 rows × 9 columns</p>\n",
       "</div>"
      ],
      "text/plain": [
       "                                                                                  Name  \\\n",
       "pbmc1_10x_v2_A_CTGATCCCAGTGGGAT                        pbmc1_10x_v2_A_CTGATCCCAGTGGGAT   \n",
       "pbmc1_Seqwell_CTACGCATTGCA_R1                            pbmc1_Seqwell_CTACGCATTGCA_R1   \n",
       "pbmc2_10X_V2_AAACCTGTCTTGTACT                            pbmc2_10X_V2_AAACCTGTCTTGTACT   \n",
       "pbmc2_Celseq2_3_GATCAC                                          pbmc2_Celseq2_3_GATCAC   \n",
       "pbmc2_inDrops_1_CTCACATC.TTATGCGA.CCCATAGC  pbmc2_inDrops_1_CTCACATC.TTATGCGA.CCCATAGC   \n",
       "...                                                                                ...   \n",
       "pbmc1_10x_v2_B_GTCCTCACACGAAGCA                        pbmc1_10x_v2_B_GTCCTCACACGAAGCA   \n",
       "pbmc2_10X_V2_ACTGTCCTCAACACGT                            pbmc2_10X_V2_ACTGTCCTCAACACGT   \n",
       "pbmc1_Seqwell_TTGCGACTGTGG_R1                            pbmc1_Seqwell_TTGCGACTGTGG_R1   \n",
       "pbmc1_10x_v3_TCATATCTCCGGGACT                            pbmc1_10x_v3_TCATATCTCCGGGACT   \n",
       "pbmc1_10x_v2_B_GGAAAGCAGAGGTAGA                        pbmc1_10x_v2_B_GGAAAGCAGAGGTAGA   \n",
       "\n",
       "                                            nGene  nUMI  percent.mito  \\\n",
       "pbmc1_10x_v2_A_CTGATCCCAGTGGGAT              1122  3239      0.040753   \n",
       "pbmc1_Seqwell_CTACGCATTGCA_R1                 664  1146      0.029668   \n",
       "pbmc2_10X_V2_AAACCTGTCTTGTACT                1895  5801      0.034304   \n",
       "pbmc2_Celseq2_3_GATCAC                       2816  6675      0.134682   \n",
       "pbmc2_inDrops_1_CTCACATC.TTATGCGA.CCCATAGC    190   241      0.091286   \n",
       "...                                           ...   ...           ...   \n",
       "pbmc1_10x_v2_B_GTCCTCACACGAAGCA               801  2418      0.016129   \n",
       "pbmc2_10X_V2_ACTGTCCTCAACACGT                1779  4972      0.052494   \n",
       "pbmc1_Seqwell_TTGCGACTGTGG_R1                 733  1361      0.029390   \n",
       "pbmc1_10x_v3_TCATATCTCCGGGACT                1435  3810      0.168504   \n",
       "pbmc1_10x_v2_B_GGAAAGCAGAGGTAGA               780  1955      0.032225   \n",
       "\n",
       "                                            Cluster          CellType  \\\n",
       "pbmc1_10x_v2_A_CTGATCCCAGTGGGAT                   5    CD14+ monocyte   \n",
       "pbmc1_Seqwell_CTACGCATTGCA_R1                     5    CD14+ monocyte   \n",
       "pbmc2_10X_V2_AAACCTGTCTTGTACT                     2            B cell   \n",
       "pbmc2_Celseq2_3_GATCAC                            1  Cytotoxic T cell   \n",
       "pbmc2_inDrops_1_CTCACATC.TTATGCGA.CCCATAGC        7    Dendritic cell   \n",
       "...                                             ...               ...   \n",
       "pbmc1_10x_v2_B_GTCCTCACACGAAGCA                   1       CD4+ T cell   \n",
       "pbmc2_10X_V2_ACTGTCCTCAACACGT                     3    CD14+ monocyte   \n",
       "pbmc1_Seqwell_TTGCGACTGTGG_R1                     1  Cytotoxic T cell   \n",
       "pbmc1_10x_v3_TCATATCTCCGGGACT                     0  Cytotoxic T cell   \n",
       "pbmc1_10x_v2_B_GGAAAGCAGAGGTAGA                   1       CD4+ T cell   \n",
       "\n",
       "                                           Experiment               Method  \\\n",
       "pbmc1_10x_v2_A_CTGATCCCAGTGGGAT                 pbmc1  10x Chromium (v2) A   \n",
       "pbmc1_Seqwell_CTACGCATTGCA_R1                   pbmc1             Seq-Well   \n",
       "pbmc2_10X_V2_AAACCTGTCTTGTACT                   pbmc2    10x Chromium (v2)   \n",
       "pbmc2_Celseq2_3_GATCAC                          pbmc2             CEL-Seq2   \n",
       "pbmc2_inDrops_1_CTCACATC.TTATGCGA.CCCATAGC      pbmc2              inDrops   \n",
       "...                                               ...                  ...   \n",
       "pbmc1_10x_v2_B_GTCCTCACACGAAGCA                 pbmc1  10x Chromium (v2) B   \n",
       "pbmc2_10X_V2_ACTGTCCTCAACACGT                   pbmc2    10x Chromium (v2)   \n",
       "pbmc1_Seqwell_TTGCGACTGTGG_R1                   pbmc1             Seq-Well   \n",
       "pbmc1_10x_v3_TCATATCTCCGGGACT                   pbmc1    10x Chromium (v3)   \n",
       "pbmc1_10x_v2_B_GGAAAGCAGAGGTAGA                 pbmc1  10x Chromium (v2) B   \n",
       "\n",
       "                                            sizeFactor  \n",
       "pbmc1_10x_v2_A_CTGATCCCAGTGGGAT               0.978751  \n",
       "pbmc1_Seqwell_CTACGCATTGCA_R1                 0.377307  \n",
       "pbmc2_10X_V2_AAACCTGTCTTGTACT                 1.935131  \n",
       "pbmc2_Celseq2_3_GATCAC                       12.575324  \n",
       "pbmc2_inDrops_1_CTCACATC.TTATGCGA.CCCATAGC    0.025989  \n",
       "...                                                ...  \n",
       "pbmc1_10x_v2_B_GTCCTCACACGAAGCA               0.453430  \n",
       "pbmc2_10X_V2_ACTGTCCTCAACACGT                 1.863723  \n",
       "pbmc1_Seqwell_TTGCGACTGTGG_R1                 0.253546  \n",
       "pbmc1_10x_v3_TCATATCTCCGGGACT                 0.689886  \n",
       "pbmc1_10x_v2_B_GGAAAGCAGAGGTAGA               0.353703  \n",
       "\n",
       "[15511 rows x 9 columns]"
      ]
     },
     "execution_count": 12,
     "metadata": {},
     "output_type": "execute_result"
    }
   ],
   "source": [
    "tmp"
   ]
  },
  {
   "cell_type": "code",
   "execution_count": 13,
   "metadata": {},
   "outputs": [
    {
     "data": {
      "text/html": [
       "<div>\n",
       "<style scoped>\n",
       "    .dataframe tbody tr th:only-of-type {\n",
       "        vertical-align: middle;\n",
       "    }\n",
       "\n",
       "    .dataframe tbody tr th {\n",
       "        vertical-align: top;\n",
       "    }\n",
       "\n",
       "    .dataframe thead th {\n",
       "        text-align: right;\n",
       "    }\n",
       "</style>\n",
       "<table border=\"1\" class=\"dataframe\">\n",
       "  <thead>\n",
       "    <tr style=\"text-align: right;\">\n",
       "      <th></th>\n",
       "      <th>ensembl_gene_id</th>\n",
       "      <th>hgnc_symbol</th>\n",
       "      <th>ensembl_gene_id.1</th>\n",
       "      <th>hgnc_symbol.1</th>\n",
       "      <th>entrezgene_id</th>\n",
       "      <th>start_position</th>\n",
       "      <th>end_position</th>\n",
       "      <th>chromosome_name</th>\n",
       "    </tr>\n",
       "  </thead>\n",
       "  <tbody>\n",
       "    <tr>\n",
       "      <th>TSPAN6_ENSG00000000003</th>\n",
       "      <td>ENSG00000000003</td>\n",
       "      <td>TSPAN6</td>\n",
       "      <td>ENSG00000000003</td>\n",
       "      <td>TSPAN6</td>\n",
       "      <td>7105.0</td>\n",
       "      <td>100627108.0</td>\n",
       "      <td>100639991.0</td>\n",
       "      <td>X</td>\n",
       "    </tr>\n",
       "    <tr>\n",
       "      <th>TNMD_ENSG00000000005</th>\n",
       "      <td>ENSG00000000005</td>\n",
       "      <td>TNMD</td>\n",
       "      <td>ENSG00000000005</td>\n",
       "      <td>TNMD</td>\n",
       "      <td>64102.0</td>\n",
       "      <td>100584936.0</td>\n",
       "      <td>100599885.0</td>\n",
       "      <td>X</td>\n",
       "    </tr>\n",
       "    <tr>\n",
       "      <th>DPM1_ENSG00000000419</th>\n",
       "      <td>ENSG00000000419</td>\n",
       "      <td>DPM1</td>\n",
       "      <td>ENSG00000000419</td>\n",
       "      <td>DPM1</td>\n",
       "      <td>8813.0</td>\n",
       "      <td>50934867.0</td>\n",
       "      <td>50958555.0</td>\n",
       "      <td>20</td>\n",
       "    </tr>\n",
       "    <tr>\n",
       "      <th>SCYL3_ENSG00000000457</th>\n",
       "      <td>ENSG00000000457</td>\n",
       "      <td>SCYL3</td>\n",
       "      <td>ENSG00000000457</td>\n",
       "      <td>SCYL3</td>\n",
       "      <td>57147.0</td>\n",
       "      <td>169849631.0</td>\n",
       "      <td>169894267.0</td>\n",
       "      <td>1</td>\n",
       "    </tr>\n",
       "    <tr>\n",
       "      <th>C1orf112_ENSG00000000460</th>\n",
       "      <td>ENSG00000000460</td>\n",
       "      <td>C1orf112</td>\n",
       "      <td>ENSG00000000460</td>\n",
       "      <td>C1orf112</td>\n",
       "      <td>55732.0</td>\n",
       "      <td>169662007.0</td>\n",
       "      <td>169854080.0</td>\n",
       "      <td>1</td>\n",
       "    </tr>\n",
       "    <tr>\n",
       "      <th>...</th>\n",
       "      <td>...</td>\n",
       "      <td>...</td>\n",
       "      <td>...</td>\n",
       "      <td>...</td>\n",
       "      <td>...</td>\n",
       "      <td>...</td>\n",
       "      <td>...</td>\n",
       "      <td>...</td>\n",
       "    </tr>\n",
       "    <tr>\n",
       "      <th>RP11-157J13.1_ENSG00000283096</th>\n",
       "      <td>ENSG00000283096</td>\n",
       "      <td>RP11-157J13.1</td>\n",
       "      <td>ENSG00000283096</td>\n",
       "      <td>NaN</td>\n",
       "      <td>NaN</td>\n",
       "      <td>78176928.0</td>\n",
       "      <td>78178186.0</td>\n",
       "      <td>10</td>\n",
       "    </tr>\n",
       "    <tr>\n",
       "      <th>LLNLR-245B6.1_ENSG00000283103</th>\n",
       "      <td>ENSG00000283103</td>\n",
       "      <td>LLNLR-245B6.1</td>\n",
       "      <td>ENSG00000283103</td>\n",
       "      <td>NaN</td>\n",
       "      <td>NaN</td>\n",
       "      <td>58309727.0</td>\n",
       "      <td>58327248.0</td>\n",
       "      <td>19</td>\n",
       "    </tr>\n",
       "    <tr>\n",
       "      <th>CTD-2060L22.1_ENSG00000283117</th>\n",
       "      <td>ENSG00000283117</td>\n",
       "      <td>CTD-2060L22.1</td>\n",
       "      <td>ENSG00000283117</td>\n",
       "      <td>NaN</td>\n",
       "      <td>79150.0</td>\n",
       "      <td>10449820.0</td>\n",
       "      <td>10779944.0</td>\n",
       "      <td>7</td>\n",
       "    </tr>\n",
       "    <tr>\n",
       "      <th>RP11-107E5.4_ENSG00000283118</th>\n",
       "      <td>ENSG00000283118</td>\n",
       "      <td>RP11-107E5.4</td>\n",
       "      <td>ENSG00000283118</td>\n",
       "      <td>NaN</td>\n",
       "      <td>NaN</td>\n",
       "      <td>144444848.0</td>\n",
       "      <td>144450450.0</td>\n",
       "      <td>2</td>\n",
       "    </tr>\n",
       "    <tr>\n",
       "      <th>RP11-299P2.2_ENSG00000283125</th>\n",
       "      <td>ENSG00000283125</td>\n",
       "      <td>RP11-299P2.2</td>\n",
       "      <td>ENSG00000283125</td>\n",
       "      <td>NaN</td>\n",
       "      <td>NaN</td>\n",
       "      <td>63207622.0</td>\n",
       "      <td>63208168.0</td>\n",
       "      <td>18</td>\n",
       "    </tr>\n",
       "  </tbody>\n",
       "</table>\n",
       "<p>33694 rows × 8 columns</p>\n",
       "</div>"
      ],
      "text/plain": [
       "                               ensembl_gene_id    hgnc_symbol  \\\n",
       "TSPAN6_ENSG00000000003         ENSG00000000003         TSPAN6   \n",
       "TNMD_ENSG00000000005           ENSG00000000005           TNMD   \n",
       "DPM1_ENSG00000000419           ENSG00000000419           DPM1   \n",
       "SCYL3_ENSG00000000457          ENSG00000000457          SCYL3   \n",
       "C1orf112_ENSG00000000460       ENSG00000000460       C1orf112   \n",
       "...                                        ...            ...   \n",
       "RP11-157J13.1_ENSG00000283096  ENSG00000283096  RP11-157J13.1   \n",
       "LLNLR-245B6.1_ENSG00000283103  ENSG00000283103  LLNLR-245B6.1   \n",
       "CTD-2060L22.1_ENSG00000283117  ENSG00000283117  CTD-2060L22.1   \n",
       "RP11-107E5.4_ENSG00000283118   ENSG00000283118   RP11-107E5.4   \n",
       "RP11-299P2.2_ENSG00000283125   ENSG00000283125   RP11-299P2.2   \n",
       "\n",
       "                              ensembl_gene_id.1 hgnc_symbol.1  entrezgene_id  \\\n",
       "TSPAN6_ENSG00000000003          ENSG00000000003        TSPAN6         7105.0   \n",
       "TNMD_ENSG00000000005            ENSG00000000005          TNMD        64102.0   \n",
       "DPM1_ENSG00000000419            ENSG00000000419          DPM1         8813.0   \n",
       "SCYL3_ENSG00000000457           ENSG00000000457         SCYL3        57147.0   \n",
       "C1orf112_ENSG00000000460        ENSG00000000460      C1orf112        55732.0   \n",
       "...                                         ...           ...            ...   \n",
       "RP11-157J13.1_ENSG00000283096   ENSG00000283096           NaN            NaN   \n",
       "LLNLR-245B6.1_ENSG00000283103   ENSG00000283103           NaN            NaN   \n",
       "CTD-2060L22.1_ENSG00000283117   ENSG00000283117           NaN        79150.0   \n",
       "RP11-107E5.4_ENSG00000283118    ENSG00000283118           NaN            NaN   \n",
       "RP11-299P2.2_ENSG00000283125    ENSG00000283125           NaN            NaN   \n",
       "\n",
       "                               start_position  end_position chromosome_name  \n",
       "TSPAN6_ENSG00000000003            100627108.0   100639991.0               X  \n",
       "TNMD_ENSG00000000005              100584936.0   100599885.0               X  \n",
       "DPM1_ENSG00000000419               50934867.0    50958555.0              20  \n",
       "SCYL3_ENSG00000000457             169849631.0   169894267.0               1  \n",
       "C1orf112_ENSG00000000460          169662007.0   169854080.0               1  \n",
       "...                                       ...           ...             ...  \n",
       "RP11-157J13.1_ENSG00000283096      78176928.0    78178186.0              10  \n",
       "LLNLR-245B6.1_ENSG00000283103      58309727.0    58327248.0              19  \n",
       "CTD-2060L22.1_ENSG00000283117      10449820.0    10779944.0               7  \n",
       "RP11-107E5.4_ENSG00000283118      144444848.0   144450450.0               2  \n",
       "RP11-299P2.2_ENSG00000283125       63207622.0    63208168.0              18  \n",
       "\n",
       "[33694 rows x 8 columns]"
      ]
     },
     "execution_count": 13,
     "metadata": {},
     "output_type": "execute_result"
    }
   ],
   "source": [
    "pd.read_csv('Data/gene.csv', index_col=0)"
   ]
  },
  {
   "cell_type": "code",
   "execution_count": 15,
   "metadata": {},
   "outputs": [
    {
     "data": {
      "text/plain": [
       "15511"
      ]
     },
     "execution_count": 15,
     "metadata": {},
     "output_type": "execute_result"
    }
   ],
   "source": [
    "len(tmp)"
   ]
  },
  {
   "cell_type": "code",
   "execution_count": 16,
   "metadata": {},
   "outputs": [
    {
     "data": {
      "text/html": [
       "<div>\n",
       "<style scoped>\n",
       "    .dataframe tbody tr th:only-of-type {\n",
       "        vertical-align: middle;\n",
       "    }\n",
       "\n",
       "    .dataframe tbody tr th {\n",
       "        vertical-align: top;\n",
       "    }\n",
       "\n",
       "    .dataframe thead th {\n",
       "        text-align: right;\n",
       "    }\n",
       "</style>\n",
       "<table border=\"1\" class=\"dataframe\">\n",
       "  <thead>\n",
       "    <tr style=\"text-align: right;\">\n",
       "      <th></th>\n",
       "      <th>Name</th>\n",
       "      <th>nGene</th>\n",
       "      <th>nUMI</th>\n",
       "      <th>percent.mito</th>\n",
       "      <th>Cluster</th>\n",
       "      <th>CellType</th>\n",
       "      <th>Experiment</th>\n",
       "      <th>Method</th>\n",
       "      <th>sizeFactor</th>\n",
       "    </tr>\n",
       "  </thead>\n",
       "  <tbody>\n",
       "    <tr>\n",
       "      <th>pbmc1_10x_v2_A_CTGATCCCAGTGGGAT</th>\n",
       "      <td>pbmc1_10x_v2_A_CTGATCCCAGTGGGAT</td>\n",
       "      <td>1122</td>\n",
       "      <td>3239</td>\n",
       "      <td>0.040753</td>\n",
       "      <td>5</td>\n",
       "      <td>CD14+ monocyte</td>\n",
       "      <td>pbmc1</td>\n",
       "      <td>10x Chromium (v2) A</td>\n",
       "      <td>0.978751</td>\n",
       "    </tr>\n",
       "    <tr>\n",
       "      <th>pbmc1_Seqwell_CTACGCATTGCA_R1</th>\n",
       "      <td>pbmc1_Seqwell_CTACGCATTGCA_R1</td>\n",
       "      <td>664</td>\n",
       "      <td>1146</td>\n",
       "      <td>0.029668</td>\n",
       "      <td>5</td>\n",
       "      <td>CD14+ monocyte</td>\n",
       "      <td>pbmc1</td>\n",
       "      <td>Seq-Well</td>\n",
       "      <td>0.377307</td>\n",
       "    </tr>\n",
       "    <tr>\n",
       "      <th>pbmc2_10X_V2_AAACCTGTCTTGTACT</th>\n",
       "      <td>pbmc2_10X_V2_AAACCTGTCTTGTACT</td>\n",
       "      <td>1895</td>\n",
       "      <td>5801</td>\n",
       "      <td>0.034304</td>\n",
       "      <td>2</td>\n",
       "      <td>B cell</td>\n",
       "      <td>pbmc2</td>\n",
       "      <td>10x Chromium (v2)</td>\n",
       "      <td>1.935131</td>\n",
       "    </tr>\n",
       "    <tr>\n",
       "      <th>pbmc2_Celseq2_3_GATCAC</th>\n",
       "      <td>pbmc2_Celseq2_3_GATCAC</td>\n",
       "      <td>2816</td>\n",
       "      <td>6675</td>\n",
       "      <td>0.134682</td>\n",
       "      <td>1</td>\n",
       "      <td>Cytotoxic T cell</td>\n",
       "      <td>pbmc2</td>\n",
       "      <td>CEL-Seq2</td>\n",
       "      <td>12.575324</td>\n",
       "    </tr>\n",
       "    <tr>\n",
       "      <th>pbmc2_inDrops_1_CTCACATC.TTATGCGA.CCCATAGC</th>\n",
       "      <td>pbmc2_inDrops_1_CTCACATC.TTATGCGA.CCCATAGC</td>\n",
       "      <td>190</td>\n",
       "      <td>241</td>\n",
       "      <td>0.091286</td>\n",
       "      <td>7</td>\n",
       "      <td>Dendritic cell</td>\n",
       "      <td>pbmc2</td>\n",
       "      <td>inDrops</td>\n",
       "      <td>0.025989</td>\n",
       "    </tr>\n",
       "    <tr>\n",
       "      <th>...</th>\n",
       "      <td>...</td>\n",
       "      <td>...</td>\n",
       "      <td>...</td>\n",
       "      <td>...</td>\n",
       "      <td>...</td>\n",
       "      <td>...</td>\n",
       "      <td>...</td>\n",
       "      <td>...</td>\n",
       "      <td>...</td>\n",
       "    </tr>\n",
       "    <tr>\n",
       "      <th>pbmc1_10x_v2_B_GTCCTCACACGAAGCA</th>\n",
       "      <td>pbmc1_10x_v2_B_GTCCTCACACGAAGCA</td>\n",
       "      <td>801</td>\n",
       "      <td>2418</td>\n",
       "      <td>0.016129</td>\n",
       "      <td>1</td>\n",
       "      <td>CD4+ T cell</td>\n",
       "      <td>pbmc1</td>\n",
       "      <td>10x Chromium (v2) B</td>\n",
       "      <td>0.453430</td>\n",
       "    </tr>\n",
       "    <tr>\n",
       "      <th>pbmc2_10X_V2_ACTGTCCTCAACACGT</th>\n",
       "      <td>pbmc2_10X_V2_ACTGTCCTCAACACGT</td>\n",
       "      <td>1779</td>\n",
       "      <td>4972</td>\n",
       "      <td>0.052494</td>\n",
       "      <td>3</td>\n",
       "      <td>CD14+ monocyte</td>\n",
       "      <td>pbmc2</td>\n",
       "      <td>10x Chromium (v2)</td>\n",
       "      <td>1.863723</td>\n",
       "    </tr>\n",
       "    <tr>\n",
       "      <th>pbmc1_Seqwell_TTGCGACTGTGG_R1</th>\n",
       "      <td>pbmc1_Seqwell_TTGCGACTGTGG_R1</td>\n",
       "      <td>733</td>\n",
       "      <td>1361</td>\n",
       "      <td>0.029390</td>\n",
       "      <td>1</td>\n",
       "      <td>Cytotoxic T cell</td>\n",
       "      <td>pbmc1</td>\n",
       "      <td>Seq-Well</td>\n",
       "      <td>0.253546</td>\n",
       "    </tr>\n",
       "    <tr>\n",
       "      <th>pbmc1_10x_v3_TCATATCTCCGGGACT</th>\n",
       "      <td>pbmc1_10x_v3_TCATATCTCCGGGACT</td>\n",
       "      <td>1435</td>\n",
       "      <td>3810</td>\n",
       "      <td>0.168504</td>\n",
       "      <td>0</td>\n",
       "      <td>Cytotoxic T cell</td>\n",
       "      <td>pbmc1</td>\n",
       "      <td>10x Chromium (v3)</td>\n",
       "      <td>0.689886</td>\n",
       "    </tr>\n",
       "    <tr>\n",
       "      <th>pbmc1_10x_v2_B_GGAAAGCAGAGGTAGA</th>\n",
       "      <td>pbmc1_10x_v2_B_GGAAAGCAGAGGTAGA</td>\n",
       "      <td>780</td>\n",
       "      <td>1955</td>\n",
       "      <td>0.032225</td>\n",
       "      <td>1</td>\n",
       "      <td>CD4+ T cell</td>\n",
       "      <td>pbmc1</td>\n",
       "      <td>10x Chromium (v2) B</td>\n",
       "      <td>0.353703</td>\n",
       "    </tr>\n",
       "  </tbody>\n",
       "</table>\n",
       "<p>15511 rows × 9 columns</p>\n",
       "</div>"
      ],
      "text/plain": [
       "                                                                                  Name  \\\n",
       "pbmc1_10x_v2_A_CTGATCCCAGTGGGAT                        pbmc1_10x_v2_A_CTGATCCCAGTGGGAT   \n",
       "pbmc1_Seqwell_CTACGCATTGCA_R1                            pbmc1_Seqwell_CTACGCATTGCA_R1   \n",
       "pbmc2_10X_V2_AAACCTGTCTTGTACT                            pbmc2_10X_V2_AAACCTGTCTTGTACT   \n",
       "pbmc2_Celseq2_3_GATCAC                                          pbmc2_Celseq2_3_GATCAC   \n",
       "pbmc2_inDrops_1_CTCACATC.TTATGCGA.CCCATAGC  pbmc2_inDrops_1_CTCACATC.TTATGCGA.CCCATAGC   \n",
       "...                                                                                ...   \n",
       "pbmc1_10x_v2_B_GTCCTCACACGAAGCA                        pbmc1_10x_v2_B_GTCCTCACACGAAGCA   \n",
       "pbmc2_10X_V2_ACTGTCCTCAACACGT                            pbmc2_10X_V2_ACTGTCCTCAACACGT   \n",
       "pbmc1_Seqwell_TTGCGACTGTGG_R1                            pbmc1_Seqwell_TTGCGACTGTGG_R1   \n",
       "pbmc1_10x_v3_TCATATCTCCGGGACT                            pbmc1_10x_v3_TCATATCTCCGGGACT   \n",
       "pbmc1_10x_v2_B_GGAAAGCAGAGGTAGA                        pbmc1_10x_v2_B_GGAAAGCAGAGGTAGA   \n",
       "\n",
       "                                            nGene  nUMI  percent.mito  \\\n",
       "pbmc1_10x_v2_A_CTGATCCCAGTGGGAT              1122  3239      0.040753   \n",
       "pbmc1_Seqwell_CTACGCATTGCA_R1                 664  1146      0.029668   \n",
       "pbmc2_10X_V2_AAACCTGTCTTGTACT                1895  5801      0.034304   \n",
       "pbmc2_Celseq2_3_GATCAC                       2816  6675      0.134682   \n",
       "pbmc2_inDrops_1_CTCACATC.TTATGCGA.CCCATAGC    190   241      0.091286   \n",
       "...                                           ...   ...           ...   \n",
       "pbmc1_10x_v2_B_GTCCTCACACGAAGCA               801  2418      0.016129   \n",
       "pbmc2_10X_V2_ACTGTCCTCAACACGT                1779  4972      0.052494   \n",
       "pbmc1_Seqwell_TTGCGACTGTGG_R1                 733  1361      0.029390   \n",
       "pbmc1_10x_v3_TCATATCTCCGGGACT                1435  3810      0.168504   \n",
       "pbmc1_10x_v2_B_GGAAAGCAGAGGTAGA               780  1955      0.032225   \n",
       "\n",
       "                                            Cluster          CellType  \\\n",
       "pbmc1_10x_v2_A_CTGATCCCAGTGGGAT                   5    CD14+ monocyte   \n",
       "pbmc1_Seqwell_CTACGCATTGCA_R1                     5    CD14+ monocyte   \n",
       "pbmc2_10X_V2_AAACCTGTCTTGTACT                     2            B cell   \n",
       "pbmc2_Celseq2_3_GATCAC                            1  Cytotoxic T cell   \n",
       "pbmc2_inDrops_1_CTCACATC.TTATGCGA.CCCATAGC        7    Dendritic cell   \n",
       "...                                             ...               ...   \n",
       "pbmc1_10x_v2_B_GTCCTCACACGAAGCA                   1       CD4+ T cell   \n",
       "pbmc2_10X_V2_ACTGTCCTCAACACGT                     3    CD14+ monocyte   \n",
       "pbmc1_Seqwell_TTGCGACTGTGG_R1                     1  Cytotoxic T cell   \n",
       "pbmc1_10x_v3_TCATATCTCCGGGACT                     0  Cytotoxic T cell   \n",
       "pbmc1_10x_v2_B_GGAAAGCAGAGGTAGA                   1       CD4+ T cell   \n",
       "\n",
       "                                           Experiment               Method  \\\n",
       "pbmc1_10x_v2_A_CTGATCCCAGTGGGAT                 pbmc1  10x Chromium (v2) A   \n",
       "pbmc1_Seqwell_CTACGCATTGCA_R1                   pbmc1             Seq-Well   \n",
       "pbmc2_10X_V2_AAACCTGTCTTGTACT                   pbmc2    10x Chromium (v2)   \n",
       "pbmc2_Celseq2_3_GATCAC                          pbmc2             CEL-Seq2   \n",
       "pbmc2_inDrops_1_CTCACATC.TTATGCGA.CCCATAGC      pbmc2              inDrops   \n",
       "...                                               ...                  ...   \n",
       "pbmc1_10x_v2_B_GTCCTCACACGAAGCA                 pbmc1  10x Chromium (v2) B   \n",
       "pbmc2_10X_V2_ACTGTCCTCAACACGT                   pbmc2    10x Chromium (v2)   \n",
       "pbmc1_Seqwell_TTGCGACTGTGG_R1                   pbmc1             Seq-Well   \n",
       "pbmc1_10x_v3_TCATATCTCCGGGACT                   pbmc1    10x Chromium (v3)   \n",
       "pbmc1_10x_v2_B_GGAAAGCAGAGGTAGA                 pbmc1  10x Chromium (v2) B   \n",
       "\n",
       "                                            sizeFactor  \n",
       "pbmc1_10x_v2_A_CTGATCCCAGTGGGAT               0.978751  \n",
       "pbmc1_Seqwell_CTACGCATTGCA_R1                 0.377307  \n",
       "pbmc2_10X_V2_AAACCTGTCTTGTACT                 1.935131  \n",
       "pbmc2_Celseq2_3_GATCAC                       12.575324  \n",
       "pbmc2_inDrops_1_CTCACATC.TTATGCGA.CCCATAGC    0.025989  \n",
       "...                                                ...  \n",
       "pbmc1_10x_v2_B_GTCCTCACACGAAGCA               0.453430  \n",
       "pbmc2_10X_V2_ACTGTCCTCAACACGT                 1.863723  \n",
       "pbmc1_Seqwell_TTGCGACTGTGG_R1                 0.253546  \n",
       "pbmc1_10x_v3_TCATATCTCCGGGACT                 0.689886  \n",
       "pbmc1_10x_v2_B_GGAAAGCAGAGGTAGA               0.353703  \n",
       "\n",
       "[15511 rows x 9 columns]"
      ]
     },
     "execution_count": 16,
     "metadata": {},
     "output_type": "execute_result"
    }
   ],
   "source": [
    "tmp"
   ]
  },
  {
   "cell_type": "code",
   "execution_count": 18,
   "metadata": {},
   "outputs": [
    {
     "data": {
      "text/plain": [
       "Name            pbmc1_Seqwell_CTACGCATTGCA_R1\n",
       "nGene                                     664\n",
       "nUMI                                     1146\n",
       "percent.mito                        0.0296684\n",
       "Cluster                                     5\n",
       "CellType                       CD14+ monocyte\n",
       "Experiment                              pbmc1\n",
       "Method                               Seq-Well\n",
       "sizeFactor                           0.377307\n",
       "Name: pbmc1_Seqwell_CTACGCATTGCA_R1, dtype: object"
      ]
     },
     "execution_count": 18,
     "metadata": {},
     "output_type": "execute_result"
    }
   ],
   "source": [
    "tmp.iloc[1]"
   ]
  },
  {
   "cell_type": "code",
   "execution_count": 72,
   "metadata": {},
   "outputs": [
    {
     "data": {
      "text/plain": [
       "<15511x10 sparse matrix of type '<class 'numpy.float64'>'\n",
       "\twith 15511 stored elements in Compressed Sparse Row format>"
      ]
     },
     "execution_count": 72,
     "metadata": {},
     "output_type": "execute_result"
    }
   ],
   "source": [
    "from sklearn.preprocessing import OneHotEncoder\n",
    "enc = OneHotEncoder(handle_unknown='ignore')\n",
    "enc.fit(tmp['CellType'].to_numpy().reshape(-1, 1))\n",
    "enc.transform(tmp['CellType'].to_numpy().reshape(-1, 1))"
   ]
  },
  {
   "cell_type": "code",
   "execution_count": 73,
   "metadata": {},
   "outputs": [
    {
     "data": {
      "text/plain": [
       "<15511x10 sparse matrix of type '<class 'numpy.float64'>'\n",
       "\twith 15511 stored elements in Compressed Sparse Row format>"
      ]
     },
     "execution_count": 73,
     "metadata": {},
     "output_type": "execute_result"
    }
   ],
   "source": [
    "enc.transform(tmp['CellType'].to_numpy().reshape(-1, 1))"
   ]
  },
  {
   "cell_type": "code",
   "execution_count": 37,
   "metadata": {},
   "outputs": [
    {
     "data": {
      "text/plain": [
       "WindowsPath('Data/ok.csv')"
      ]
     },
     "execution_count": 37,
     "metadata": {},
     "output_type": "execute_result"
    }
   ],
   "source": [
    "from pathlib import Path\n",
    "Path('Data/cell.csv').parent/'ok.csv'"
   ]
  },
  {
   "cell_type": "code",
   "execution_count": 56,
   "metadata": {},
   "outputs": [],
   "source": [
    "cells = pd.read_csv('Data/cell.csv')"
   ]
  },
  {
   "cell_type": "code",
   "execution_count": 57,
   "metadata": {},
   "outputs": [],
   "source": [
    "enc = OneHotEncoder(handle_unknown='ignore')"
   ]
  },
  {
   "cell_type": "code",
   "execution_count": 58,
   "metadata": {},
   "outputs": [
    {
     "data": {
      "text/plain": [
       "OneHotEncoder(handle_unknown='ignore')"
      ]
     },
     "execution_count": 58,
     "metadata": {},
     "output_type": "execute_result"
    }
   ],
   "source": [
    "enc.fit(cells['CellType'].to_numpy().reshape(-1, 1))"
   ]
  },
  {
   "cell_type": "code",
   "execution_count": 59,
   "metadata": {},
   "outputs": [],
   "source": [
    "cell_type_labels = enc.transform(cells['CellType'].to_numpy().reshape(-1, 1))"
   ]
  },
  {
   "cell_type": "code",
   "execution_count": 62,
   "metadata": {},
   "outputs": [
    {
     "data": {
      "text/plain": [
       "<1x10 sparse matrix of type '<class 'numpy.float64'>'\n",
       "\twith 1 stored elements in Compressed Sparse Row format>"
      ]
     },
     "execution_count": 62,
     "metadata": {},
     "output_type": "execute_result"
    }
   ],
   "source": [
    "cell_type_labels[5, :]"
   ]
  },
  {
   "cell_type": "code",
   "execution_count": 66,
   "metadata": {},
   "outputs": [
    {
     "data": {
      "text/plain": [
       "31021"
      ]
     },
     "execution_count": 66,
     "metadata": {},
     "output_type": "execute_result"
    }
   ],
   "source": [
    "cell_type_labels.shape[0]"
   ]
  },
  {
   "cell_type": "code",
   "execution_count": 82,
   "metadata": {},
   "outputs": [
    {
     "data": {
      "text/plain": [
       "array(['B cell', 'CD14+ monocyte', 'CD16+ monocyte', 'CD4+ T cell',\n",
       "       'Cytotoxic T cell', 'Dendritic cell', 'Megakaryocyte',\n",
       "       'Natural killer cell', 'Plasmacytoid dendritic cell', 'Unassigned'],\n",
       "      dtype=object)"
      ]
     },
     "execution_count": 82,
     "metadata": {},
     "output_type": "execute_result"
    }
   ],
   "source": [
    "enc.categories_[0]"
   ]
  },
  {
   "cell_type": "code",
   "execution_count": 86,
   "metadata": {},
   "outputs": [
    {
     "data": {
      "text/plain": [
       "matrix([[1., 0., 0., 0., 0., 0., 0., 0., 0., 0.],\n",
       "        [0., 1., 0., 0., 0., 0., 0., 0., 0., 0.],\n",
       "        [0., 0., 1., 0., 0., 0., 0., 0., 0., 0.],\n",
       "        [0., 0., 0., 1., 0., 0., 0., 0., 0., 0.],\n",
       "        [0., 0., 0., 0., 1., 0., 0., 0., 0., 0.],\n",
       "        [0., 0., 0., 0., 0., 1., 0., 0., 0., 0.],\n",
       "        [0., 0., 0., 0., 0., 0., 1., 0., 0., 0.],\n",
       "        [0., 0., 0., 0., 0., 0., 0., 1., 0., 0.],\n",
       "        [0., 0., 0., 0., 0., 0., 0., 0., 1., 0.],\n",
       "        [0., 0., 0., 0., 0., 0., 0., 0., 0., 1.]])"
      ]
     },
     "execution_count": 86,
     "metadata": {},
     "output_type": "execute_result"
    }
   ],
   "source": [
    "enc.transform(enc.categories_[0].reshape(-1, 1)).todense()"
   ]
  },
  {
   "cell_type": "code",
   "execution_count": null,
   "metadata": {},
   "outputs": [],
   "source": []
  }
 ],
 "metadata": {
  "kernelspec": {
   "display_name": "Python 3",
   "language": "python",
   "name": "python3"
  },
  "language_info": {
   "codemirror_mode": {
    "name": "ipython",
    "version": 3
   },
   "file_extension": ".py",
   "mimetype": "text/x-python",
   "name": "python",
   "nbconvert_exporter": "python",
   "pygments_lexer": "ipython3",
   "version": "3.8.6"
  }
 },
 "nbformat": 4,
 "nbformat_minor": 4
}
