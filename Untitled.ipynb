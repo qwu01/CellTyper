{
 "cells": [
  {
   "cell_type": "code",
   "execution_count": 31,
   "metadata": {},
   "outputs": [],
   "source": [
    "import pandas as pd\n",
    "from pathlib import Path\n",
    "import torch"
   ]
  },
  {
   "cell_type": "code",
   "execution_count": 5,
   "metadata": {},
   "outputs": [],
   "source": [
    "valid_path = Path(\"Data/datasets/pbmc1_10x Chromium (v2) A_validation\")"
   ]
  },
  {
   "cell_type": "code",
   "execution_count": 6,
   "metadata": {},
   "outputs": [],
   "source": [
    "cells = pd.read_csv(valid_path/\"cell.csv\", index_col=0)"
   ]
  },
  {
   "cell_type": "code",
   "execution_count": 22,
   "metadata": {
    "scrolled": true
   },
   "outputs": [],
   "source": [
    "cells = cells.reset_index(drop=True)[['Name', 'CellType']]"
   ]
  },
  {
   "cell_type": "code",
   "execution_count": 41,
   "metadata": {},
   "outputs": [],
   "source": [
    "cell_type_labels = torch.Tensor(cells_one_hot.to_numpy()).type(torch.FloatTensor)"
   ]
  },
  {
   "cell_type": "code",
   "execution_count": 42,
   "metadata": {},
   "outputs": [
    {
     "name": "stderr",
     "output_type": "stream",
     "text": [
      "<ipython-input-42-33ff7b3f742f>:1: UserWarning: To copy construct from a tensor, it is recommended to use sourceTensor.clone().detach() or sourceTensor.clone().detach().requires_grad_(True), rather than torch.tensor(sourceTensor).\n",
      "  torch.tensor((cell_type_labels.shape[0] - cell_type_labels.sum(axis=0))/cell_type_labels.sum(axis=0))\n"
     ]
    },
    {
     "data": {
      "text/plain": [
       "tensor([ 10.1389,   4.0125,  31.0800,   4.8540,   1.7372,  60.6923,  13.5818,\n",
       "         18.5610, 132.6667])"
      ]
     },
     "execution_count": 42,
     "metadata": {},
     "output_type": "execute_result"
    }
   ],
   "source": [
    "torch.tensor((cell_type_labels.shape[0] - cell_type_labels.sum(axis=0))/cell_type_labels.sum(axis=0))"
   ]
  },
  {
   "cell_type": "code",
   "execution_count": 43,
   "metadata": {},
   "outputs": [],
   "source": [
    "genes = pd.read_csv(valid_path/\"gene.csv\", index_col=0)"
   ]
  },
  {
   "cell_type": "code",
   "execution_count": 83,
   "metadata": {},
   "outputs": [],
   "source": [
    "from sklearn.preprocessing import OneHotEncoder, LabelBinarizer\n",
    "get_dummies = OneHotEncoder(handle_unknown='ignore')"
   ]
  },
  {
   "cell_type": "code",
   "execution_count": 84,
   "metadata": {},
   "outputs": [
    {
     "data": {
      "text/plain": [
       "OneHotEncoder(handle_unknown='ignore')"
      ]
     },
     "execution_count": 84,
     "metadata": {},
     "output_type": "execute_result"
    }
   ],
   "source": [
    "get_dummies.fit(cells[['CellType']])"
   ]
  },
  {
   "cell_type": "code",
   "execution_count": 91,
   "metadata": {},
   "outputs": [],
   "source": [
    "cell_type_dummies = get_dummies.transform(cells[['CellType']]).toarray()\n",
    "cells.join(pd.DataFrame(cell_type_dummies, columns=get_dummies.categories_[0])).to_csv('Data/test.csv')"
   ]
  },
  {
   "cell_type": "code",
   "execution_count": 94,
   "metadata": {},
   "outputs": [],
   "source": [
    "cell_type_labels = torch.Tensor(cell_type_dummies).type(torch.FloatTensor)"
   ]
  },
  {
   "cell_type": "code",
   "execution_count": 95,
   "metadata": {},
   "outputs": [
    {
     "name": "stderr",
     "output_type": "stream",
     "text": [
      "<ipython-input-95-33ff7b3f742f>:1: UserWarning: To copy construct from a tensor, it is recommended to use sourceTensor.clone().detach() or sourceTensor.clone().detach().requires_grad_(True), rather than torch.tensor(sourceTensor).\n",
      "  torch.tensor((cell_type_labels.shape[0] - cell_type_labels.sum(axis=0))/cell_type_labels.sum(axis=0))\n"
     ]
    },
    {
     "data": {
      "text/plain": [
       "tensor([ 10.1389,   4.0125,  31.0800,   4.8540,   1.7372,  60.6923,  13.5818,\n",
       "         18.5610, 132.6667])"
      ]
     },
     "execution_count": 95,
     "metadata": {},
     "output_type": "execute_result"
    }
   ],
   "source": [
    "torch.tensor((cell_type_labels.shape[0] - cell_type_labels.sum(axis=0))/cell_type_labels.sum(axis=0))"
   ]
  },
  {
   "cell_type": "code",
   "execution_count": 96,
   "metadata": {},
   "outputs": [
    {
     "data": {
      "text/plain": [
       "tensor([ 10.1389,   4.0125,  31.0800,   4.8540,   1.7372,  60.6923,  13.5818,\n",
       "         18.5610, 132.6667])"
      ]
     },
     "execution_count": 96,
     "metadata": {},
     "output_type": "execute_result"
    }
   ],
   "source": [
    "(cell_type_labels.shape[0] - cell_type_labels.sum(axis=0))/cell_type_labels.sum(axis=0)"
   ]
  },
  {
   "cell_type": "code",
   "execution_count": 111,
   "metadata": {},
   "outputs": [],
   "source": [
    "from scipy.io import mmread as readMM\n",
    "expressions = readMM(\"Data/datasets/pbmc1_10x Chromium (v2) A_test/expression_sparse.mtx\") # log_norm_count_sparse.mtx\n",
    "expressions = expressions.tocsr()\n",
    "expressions=torch.transpose(torch.tensor(expressions.todense()).type(torch.FloatTensor), 0, 1)"
   ]
  },
  {
   "cell_type": "code",
   "execution_count": 115,
   "metadata": {},
   "outputs": [
    {
     "data": {
      "text/plain": [
       "808"
      ]
     },
     "execution_count": 115,
     "metadata": {},
     "output_type": "execute_result"
    }
   ],
   "source": [
    "expressions.size(0)"
   ]
  },
  {
   "cell_type": "code",
   "execution_count": 116,
   "metadata": {},
   "outputs": [
    {
     "data": {
      "text/plain": [
       "33694"
      ]
     },
     "execution_count": 116,
     "metadata": {},
     "output_type": "execute_result"
    }
   ],
   "source": [
    "expressions.size(1)"
   ]
  },
  {
   "cell_type": "code",
   "execution_count": 120,
   "metadata": {},
   "outputs": [
    {
     "data": {
      "text/plain": [
       "9"
      ]
     },
     "execution_count": 120,
     "metadata": {},
     "output_type": "execute_result"
    }
   ],
   "source": [
    "len(get_dummies.categories_[0])"
   ]
  },
  {
   "cell_type": "code",
   "execution_count": 121,
   "metadata": {},
   "outputs": [],
   "source": [
    "from sklearn.preprocessing import OneHotEncoder, StandardScaler"
   ]
  },
  {
   "cell_type": "code",
   "execution_count": 129,
   "metadata": {},
   "outputs": [
    {
     "data": {
      "text/plain": [
       "torch.Size([808, 33694])"
      ]
     },
     "execution_count": 129,
     "metadata": {},
     "output_type": "execute_result"
    }
   ],
   "source": [
    "expressions.shape"
   ]
  },
  {
   "cell_type": "code",
   "execution_count": 123,
   "metadata": {},
   "outputs": [],
   "source": [
    "scaler = StandardScaler()"
   ]
  },
  {
   "cell_type": "code",
   "execution_count": 124,
   "metadata": {},
   "outputs": [
    {
     "data": {
      "text/plain": [
       "StandardScaler()"
      ]
     },
     "execution_count": 124,
     "metadata": {},
     "output_type": "execute_result"
    }
   ],
   "source": [
    "scaler.fit(expressions)"
   ]
  },
  {
   "cell_type": "code",
   "execution_count": 131,
   "metadata": {},
   "outputs": [
    {
     "data": {
      "text/plain": [
       "array([0.02227723, 0.        , 1.2240099 , ..., 0.00123762, 0.        ,\n",
       "       0.        ])"
      ]
     },
     "execution_count": 131,
     "metadata": {},
     "output_type": "execute_result"
    }
   ],
   "source": [
    "scaler.mean_"
   ]
  },
  {
   "cell_type": "code",
   "execution_count": 128,
   "metadata": {},
   "outputs": [
    {
     "data": {
      "text/plain": [
       "(33694,)"
      ]
     },
     "execution_count": 128,
     "metadata": {},
     "output_type": "execute_result"
    }
   ],
   "source": [
    "scaler.mean_.shape"
   ]
  },
  {
   "cell_type": "code",
   "execution_count": 130,
   "metadata": {},
   "outputs": [
    {
     "data": {
      "text/plain": [
       "array([0.18481664, 1.        , 5.2014438 , ..., 0.0351581 , 1.        ,\n",
       "       1.        ])"
      ]
     },
     "execution_count": 130,
     "metadata": {},
     "output_type": "execute_result"
    }
   ],
   "source": [
    "scaler.scale_"
   ]
  },
  {
   "cell_type": "code",
   "execution_count": 133,
   "metadata": {},
   "outputs": [
    {
     "data": {
      "text/plain": [
       "tensor([[-0.1205,  0.0000, -0.2353,  ..., -0.0352,  0.0000,  0.0000],\n",
       "        [-0.1205,  0.0000, -0.2353,  ..., -0.0352,  0.0000,  0.0000],\n",
       "        [-0.1205,  0.0000, -0.2353,  ..., -0.0352,  0.0000,  0.0000],\n",
       "        ...,\n",
       "        [-0.1205,  0.0000, -0.2353,  ..., -0.0352,  0.0000,  0.0000],\n",
       "        [-0.1205,  0.0000, -0.2353,  ..., -0.0352,  0.0000,  0.0000],\n",
       "        [-0.1205,  0.0000,  2.2640,  ..., -0.0352,  0.0000,  0.0000]],\n",
       "       dtype=torch.float64)"
      ]
     },
     "execution_count": 133,
     "metadata": {},
     "output_type": "execute_result"
    }
   ],
   "source": [
    "torch.tensor(scaler.transform(expressions))"
   ]
  },
  {
   "cell_type": "code",
   "execution_count": 136,
   "metadata": {},
   "outputs": [
    {
     "data": {
      "text/plain": [
       "tensor([[ 0.2059, -0.3782, -0.3689,  ..., -0.9804,  0.2650, -1.8273],\n",
       "        [ 0.4453, -0.8270, -0.2780,  ...,  0.6812,  0.4571, -0.2335],\n",
       "        [ 0.0524, -0.0253, -1.3399,  ...,  1.3972, -0.5921,  0.3930],\n",
       "        ...,\n",
       "        [-1.3721, -0.1652, -0.6657,  ...,  0.3128, -0.4656,  0.5839],\n",
       "        [ 0.7013, -0.3723, -0.0502,  ..., -0.9594, -0.7102, -1.6631],\n",
       "        [ 1.0498,  0.8346,  0.0903,  ...,  1.7837, -0.1090,  0.9336]])"
      ]
     },
     "execution_count": 136,
     "metadata": {},
     "output_type": "execute_result"
    }
   ],
   "source": [
    "x = torch.randn_like(expressions)\n",
    "x"
   ]
  },
  {
   "cell_type": "code",
   "execution_count": 137,
   "metadata": {},
   "outputs": [
    {
     "data": {
      "text/plain": [
       "array([[ 9.93336990e-01, -3.78193289e-01, -3.06253074e-01, ...,\n",
       "        -2.79217137e+01,  2.65026927e-01, -1.82733774e+00],\n",
       "       [ 2.28892822e+00, -8.26979518e-01, -2.88765095e-01, ...,\n",
       "         1.93404093e+01,  4.57053185e-01, -2.33543366e-01],\n",
       "       [ 1.62942169e-01, -2.53492445e-02, -4.92927780e-01, ...,\n",
       "         3.97066094e+01, -5.92105746e-01,  3.93030435e-01],\n",
       "       ...,\n",
       "       [-7.54483190e+00, -1.65153489e-01, -3.63307402e-01, ...,\n",
       "         8.86225372e+00, -4.65580165e-01,  5.83937764e-01],\n",
       "       [ 3.67400045e+00, -3.72265100e-01, -2.44981361e-01, ...,\n",
       "        -2.73247213e+01, -7.10177779e-01, -1.66308439e+00],\n",
       "       [ 5.55961745e+00,  8.34633887e-01, -2.17962074e-01, ...,\n",
       "         5.06993372e+01, -1.08970635e-01,  9.33615446e-01]])"
      ]
     },
     "execution_count": 137,
     "metadata": {},
     "output_type": "execute_result"
    }
   ],
   "source": [
    "scaler.transform(x)"
   ]
  },
  {
   "cell_type": "code",
   "execution_count": null,
   "metadata": {},
   "outputs": [],
   "source": []
  }
 ],
 "metadata": {
  "kernelspec": {
   "display_name": "Python 3",
   "language": "python",
   "name": "python3"
  },
  "language_info": {
   "codemirror_mode": {
    "name": "ipython",
    "version": 3
   },
   "file_extension": ".py",
   "mimetype": "text/x-python",
   "name": "python",
   "nbconvert_exporter": "python",
   "pygments_lexer": "ipython3",
   "version": "3.8.6"
  }
 },
 "nbformat": 4,
 "nbformat_minor": 4
}
